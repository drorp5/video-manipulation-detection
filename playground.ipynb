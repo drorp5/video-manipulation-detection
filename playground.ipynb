{
 "cells": [
  {
   "cell_type": "code",
   "execution_count": 1,
   "metadata": {},
   "outputs": [
    {
     "name": "stderr",
     "output_type": "stream",
     "text": [
      "c:\\Users\\drorp\\anaconda3\\lib\\site-packages\\scapy\\layers\\ipsec.py:471: CryptographyDeprecationWarning: Blowfish has been deprecated\n",
      "  cipher=algorithms.Blowfish,\n",
      "c:\\Users\\drorp\\anaconda3\\lib\\site-packages\\scapy\\layers\\ipsec.py:485: CryptographyDeprecationWarning: CAST5 has been deprecated\n",
      "  cipher=algorithms.CAST5,\n"
     ]
    }
   ],
   "source": [
    "import numpy as np\n",
    "import matplotlib.pyplot as plt\n",
    "import pandas as pd\n",
    "from pathlib import Path\n",
    "import seaborn as sns\n",
    "import plotly.express as px\n",
    "import plotly.graph_objects as go\n",
    "from plotly.subplots import make_subplots\n",
    "import cv2\n",
    "from transmission_mock.gvsp_transmission import SplitGvspTransmission\n",
    "import video_utils"
   ]
  },
  {
   "attachments": {},
   "cell_type": "markdown",
   "metadata": {},
   "source": [
    "I want to set start and end frame and split the pcap accordingly"
   ]
  },
  {
   "cell_type": "code",
   "execution_count": 2,
   "metadata": {},
   "outputs": [],
   "source": [
    "def time_str_to_seconds(time_string:str) -> int:\n",
    "    minutes, seconds = map(int, time_string.split(\":\"))\n",
    "    total_seconds = minutes * 60 + seconds\n",
    "    return int(total_seconds)\n",
    "\n",
    "def get_block_indices(start_time: str, duration_sec: int, fps: int, frames_index):\n",
    "    start_frame = time_str_to_seconds(start_time) * fps\n",
    "    start_block_id = int(frames_index[start_frame])\n",
    "    end_frame = (time_str_to_seconds(start_time) + duration_sec) * fps\n",
    "    end_block_id = int(frames_index[end_frame])\n",
    "    return start_block_id, end_block_id"
   ]
  },
  {
   "cell_type": "code",
   "execution_count": 3,
   "metadata": {},
   "outputs": [],
   "source": [
    "pcap_path = Path('./INPUT/drive_around_uni.pcapng')\n",
    "video_path = Path('./OUTPUT/drive_around_uni.mp4')\n",
    "scores_pkl_path = Path('./OUTPUT/drive_around_uni_MobileNet.pkl')\n",
    "cap = cv2.VideoCapture(video_path.as_posix())\n",
    "total_frames = cap.get(7)\n",
    "fps = cap.get(cv2.CAP_PROP_FPS)\n",
    "df = pd.read_pickle(scores_pkl_path.as_posix())"
   ]
  },
  {
   "cell_type": "code",
   "execution_count": 4,
   "metadata": {},
   "outputs": [],
   "source": [
    "# cap.set(1, start_frame)\n",
    "# ret, frame = cap.read()\n",
    "# img1 = cv2.cvtColor(frame, cv2.COLOR_BGR2RGB)\n",
    "# cap.set(1, end_frame)\n",
    "# ret, frame = cap.read()\n",
    "# img2 = cv2.cvtColor(frame, cv2.COLOR_BGR2RGB)\n",
    "# px.imshow(cv2.hconcat([img1, img2]))\n"
   ]
  },
  {
   "cell_type": "code",
   "execution_count": 5,
   "metadata": {},
   "outputs": [],
   "source": [
    "# video_utils.create_video_from_frames_iterator(transmission.frames, output_path.as_posix())"
   ]
  },
  {
   "cell_type": "code",
   "execution_count": 6,
   "metadata": {},
   "outputs": [],
   "source": [
    "scenario_start_time = ['1:47', '4:22', '4:37', '5:37', '6:35', '7:20', '8:25','9:22']\n",
    "duration_sec = 10"
   ]
  },
  {
   "cell_type": "code",
   "execution_count": 7,
   "metadata": {},
   "outputs": [
    {
     "name": "stderr",
     "output_type": "stream",
     "text": [
      "C:\\Users\\drorp\\AppData\\Local\\Temp/ipykernel_18872/1378275857.py:8: FutureWarning: Indexing with a float is deprecated, and will raise an IndexError in pandas 2.0. You can manually convert to an integer key instead.\n",
      "  start_block_id = int(frames_index[start_frame])\n",
      "C:\\Users\\drorp\\AppData\\Local\\Temp/ipykernel_18872/1378275857.py:10: FutureWarning: Indexing with a float is deprecated, and will raise an IndexError in pandas 2.0. You can manually convert to an integer key instead.\n",
      "  end_block_id = int(frames_index[end_frame])\n"
     ]
    }
   ],
   "source": [
    "scenario_block_start_end_id = [get_block_indices(start_time, duration_sec, fps, df.index) for start_time in scenario_start_time]\n",
    "output_dir = Path('./INPUT/SCENARIOS_BANK')\n",
    "output_dir.mkdir(exist_ok=True)\n",
    "split = SplitGvspTransmission(pcap_path, scenario_block_start_end_id, output_dir)"
   ]
  },
  {
   "cell_type": "code",
   "execution_count": 8,
   "metadata": {},
   "outputs": [],
   "source": [
    "split.split()\n"
   ]
  }
 ],
 "metadata": {
  "kernelspec": {
   "display_name": "base",
   "language": "python",
   "name": "python3"
  },
  "language_info": {
   "codemirror_mode": {
    "name": "ipython",
    "version": 3
   },
   "file_extension": ".py",
   "mimetype": "text/x-python",
   "name": "python",
   "nbconvert_exporter": "python",
   "pygments_lexer": "ipython3",
   "version": "3.8.8"
  },
  "orig_nbformat": 4,
  "vscode": {
   "interpreter": {
    "hash": "c4e5daa678ea262a560d16c837c3cb2dc2b568e1a7b898e8d8e964b8f24d7a36"
   }
  }
 },
 "nbformat": 4,
 "nbformat_minor": 2
}
